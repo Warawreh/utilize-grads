{
 "cells": [
  {
   "cell_type": "markdown",
   "metadata": {},
   "source": [
    "# Problem statment"
   ]
  },
  {
   "cell_type": "markdown",
   "metadata": {},
   "source": [
    "given an array 'arr' of elements find the subset with maximum sum, less than 'max_sum'"
   ]
  },
  {
   "cell_type": "code",
   "execution_count": 91,
   "metadata": {},
   "outputs": [],
   "source": [
    "import jax\n",
    "import jax.numpy as jnp\n",
    "from jax import grad, value_and_grad\n",
    "import random\n",
    "import time\n",
    "import numpy as np"
   ]
  },
  {
   "cell_type": "code",
   "execution_count": 84,
   "metadata": {},
   "outputs": [],
   "source": [
    "def segmoid(x): \n",
    "    return 1 / (1 + jnp.exp(-x))\n",
    "\n",
    "def tanh(x):\n",
    "    return (jnp.tanh(x) + 1) / 2\n",
    "\n",
    "def get_sum(arr, str):\n",
    "    # softmax the strength to 0-1\n",
    "    strength = jnp.array(str)\n",
    "    strength = tanh(strength)\n",
    "    # strength = [1 if s > 0.5 else 0 for s in strength]\n",
    "    return jnp.sum(jnp.array(strength) * jnp.array(arr))\n",
    "\n",
    "def loss_fn(arr, str, max_sum):\n",
    "    return jnp.abs(get_sum(arr, str) - max_sum + 0.0)"
   ]
  },
  {
   "cell_type": "code",
   "execution_count": 113,
   "metadata": {},
   "outputs": [],
   "source": [
    "def lr_schduler(i):\n",
    "    return 0.1 \n",
    "\n",
    "def solve(arr, max_sum):\n",
    "    arr = jnp.array(arr)\n",
    "    iterations_num = 1000\n",
    "    strength = jnp.zeros(len(arr))\n",
    "    loss_value_and_grad = value_and_grad(loss_fn, 1)\n",
    "\n",
    "    for i in range(iterations_num):\n",
    "        loss, grad = loss_value_and_grad(arr, strength, max_sum)\n",
    "        strength -= lr_schduler(i) * grad\n",
    "        if grad.max() < 1e-9:\n",
    "            break\n",
    "        if i % 100 == 0 and False:\n",
    "            print(f'iteration {i}, loss {loss}')\n",
    "\n",
    "    # print(f'final loss {loss}')\n",
    "    strength = tanh(strength)\n",
    "    \n",
    "    assert len(arr) == len(strength)\n",
    "\n",
    "    ids = [i for i in range(len(arr))]\n",
    "    # sort ids by strength\n",
    "    ids = [i for _, i in sorted(zip(strength, ids))]\n",
    "    cur_sum = 0\n",
    "    new_strength = [0 for _ in range(len(arr))]\n",
    "    for i in ids:\n",
    "        if cur_sum + arr[i] <= max_sum:\n",
    "            cur_sum += arr[i]\n",
    "            new_strength[i] = 1\n",
    "    \n",
    "    strength = jnp.array(new_strength)\n",
    "\n",
    "    return sum([a * s for a, s in zip(arr, strength)])    \n",
    "   \n"
   ]
  },
  {
   "cell_type": "code",
   "execution_count": 114,
   "metadata": {},
   "outputs": [
    {
     "data": {
      "text/plain": [
       "Array(5, dtype=int32)"
      ]
     },
     "execution_count": 114,
     "metadata": {},
     "output_type": "execute_result"
    }
   ],
   "source": [
    "random.seed(420)\n",
    "max_sum = 5\n",
    "arr = [1,1,1,1,1,1,1,1,1,1,1,1,1,1,1,1,1,1,1]\n",
    "arr = random.sample(arr, len(arr))\n",
    "\n",
    "solve(arr, max_sum)"
   ]
  },
  {
   "cell_type": "code",
   "execution_count": 115,
   "metadata": {},
   "outputs": [
    {
     "name": "stdout",
     "output_type": "stream",
     "text": [
      "test 0\n",
      "test 100\n",
      "test 200\n",
      "test 300\n",
      "test 400\n",
      "test 500\n",
      "test 600\n",
      "test 700\n",
      "test 800\n",
      "test 900\n",
      "avg_loss: 3.4260001182556152\n",
      "total time: 18.957711219787598\n",
      "Average time: 0.01895773434638977\n"
     ]
    }
   ],
   "source": [
    "test_count = 1000\n",
    "\n",
    "start = time.time()\n",
    "\n",
    "avg_loss = 0\n",
    "\n",
    "for _ in range(test_count):\n",
    "    arr = jnp.array(np.random.randint(1, 10, 100))\n",
    "    max_sum = random.randint(sum(arr) // 2, sum(arr))\n",
    "\n",
    "    total_sum = solve(arr, max_sum)\n",
    "\n",
    "    assert int(total_sum) <= int(max_sum)\n",
    "    \n",
    "    avg_loss += max_sum - total_sum\n",
    "\n",
    "    if _ % 100 == 0:\n",
    "        print(f\"test {_}\")\n",
    "    \n",
    "print(f\"avg_loss: {avg_loss / test_count}\")\n",
    "print(f\"total time: {time.time() - start}\")\n",
    "print(f\"Average time: {(time.time() - start) / test_count}\")"
   ]
  },
  {
   "cell_type": "code",
   "execution_count": null,
   "metadata": {},
   "outputs": [],
   "source": []
  }
 ],
 "metadata": {
  "kernelspec": {
   "display_name": "Python 3",
   "language": "python",
   "name": "python3"
  },
  "language_info": {
   "codemirror_mode": {
    "name": "ipython",
    "version": 3
   },
   "file_extension": ".py",
   "mimetype": "text/x-python",
   "name": "python",
   "nbconvert_exporter": "python",
   "pygments_lexer": "ipython3",
   "version": "3.10.12"
  }
 },
 "nbformat": 4,
 "nbformat_minor": 2
}
