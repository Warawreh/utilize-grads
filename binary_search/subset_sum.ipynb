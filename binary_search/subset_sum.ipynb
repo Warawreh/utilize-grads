{
 "cells": [
  {
   "cell_type": "markdown",
   "metadata": {},
   "source": [
    "# Problem statment"
   ]
  },
  {
   "cell_type": "markdown",
   "metadata": {},
   "source": [
    "given an array 'arr' of elements find the subset with maximum sum, less than 'max_sum'"
   ]
  },
  {
   "cell_type": "code",
   "execution_count": 1,
   "metadata": {},
   "outputs": [],
   "source": [
    "import jax\n",
    "import jax.numpy as jnp\n",
    "from jax import grad, value_and_grad\n",
    "import random\n",
    "import time"
   ]
  },
  {
   "cell_type": "code",
   "execution_count": 37,
   "metadata": {},
   "outputs": [],
   "source": [
    "def softmax(x):\n",
    "    e_x = jnp.exp(x - jnp.max(x))\n",
    "    return e_x / e_x.sum()\n",
    "\n",
    "def get_sum(arr, str):\n",
    "    # softmax the strength to 0-1\n",
    "    strength = jnp.array(arr)\n",
    "    strength = softmax(strength)\n",
    "    strength = [1 if s > 0.5 else 0 for s in strength]\n",
    "    return jnp.sum(jnp.array(strength) * jnp.array(str))\n",
    "\n",
    "def loss_fn(arr, str, max_sum):\n",
    "    return jnp.abs(get_sum(arr, str) - max_sum)"
   ]
  },
  {
   "cell_type": "code",
   "execution_count": 38,
   "metadata": {},
   "outputs": [],
   "source": [
    "def lr_schduler(i):\n",
    "    return 0.1 \n",
    "\n",
    "def solve(arr, max_sum):\n",
    "    arr = jnp.array(arr)\n",
    "    iterations_num = 1000\n",
    "    strength = jnp.zeros(len(arr))\n",
    "    loss_value_and_grad = value_and_grad(loss_fn, 1)\n",
    "\n",
    "    for i in range(iterations_num):\n",
    "        loss, grad = loss_value_and_grad(arr, strength, max_sum)\n",
    "        strength -= lr_schduler(i) * grad\n",
    "        if i % 100 == 0:\n",
    "            print(f'iteration {i}, loss {loss}')\n",
    "\n",
    "    print(f'final loss {loss}')\n",
    "    strength = softmax(strength)\n",
    "    strength = [1 if s > 0.5 else 0 for s in strength]\n",
    "    print(f'final strength {strength}')\n",
    "    print(f'final sum {get_sum(arr, strength)}')\n",
    "   \n"
   ]
  },
  {
   "cell_type": "code",
   "execution_count": 39,
   "metadata": {},
   "outputs": [
    {
     "name": "stdout",
     "output_type": "stream",
     "text": [
      "[1, 6, 5, 4, 10, 9, 8, 3, 2, 7]\n",
      "iteration 0, loss 14.0\n",
      "iteration 100, loss 3.999998092651367\n",
      "iteration 200, loss 1.71661376953125e-05\n",
      "iteration 300, loss 1.71661376953125e-05\n",
      "iteration 400, loss 1.71661376953125e-05\n",
      "iteration 500, loss 1.71661376953125e-05\n",
      "iteration 600, loss 1.71661376953125e-05\n",
      "iteration 700, loss 1.71661376953125e-05\n",
      "iteration 800, loss 1.71661376953125e-05\n",
      "iteration 900, loss 1.71661376953125e-05\n",
      "final loss 0.09998321533203125\n",
      "final strength [0, 0, 0, 0, 1, 0, 0, 0, 0, 0]\n"
     ]
    },
    {
     "ename": "TypeError",
     "evalue": "dot requires ndarray or scalar arguments, got <class 'list'> at position 0.",
     "output_type": "error",
     "traceback": [
      "\u001b[0;31m---------------------------------------------------------------------------\u001b[0m",
      "\u001b[0;31mTypeError\u001b[0m                                 Traceback (most recent call last)",
      "Cell \u001b[0;32mIn[39], line 7\u001b[0m\n\u001b[1;32m      4\u001b[0m arr \u001b[38;5;241m=\u001b[39m random\u001b[38;5;241m.\u001b[39msample(arr, \u001b[38;5;28mlen\u001b[39m(arr))\n\u001b[1;32m      5\u001b[0m \u001b[38;5;28mprint\u001b[39m(arr)\n\u001b[0;32m----> 7\u001b[0m \u001b[43msolve\u001b[49m\u001b[43m(\u001b[49m\u001b[43marr\u001b[49m\u001b[43m,\u001b[49m\u001b[43m \u001b[49m\u001b[43mmax_sum\u001b[49m\u001b[43m)\u001b[49m\n",
      "Cell \u001b[0;32mIn[38], line 20\u001b[0m, in \u001b[0;36msolve\u001b[0;34m(arr, max_sum)\u001b[0m\n\u001b[1;32m     18\u001b[0m strength \u001b[38;5;241m=\u001b[39m [\u001b[38;5;241m1\u001b[39m \u001b[38;5;28;01mif\u001b[39;00m s \u001b[38;5;241m>\u001b[39m \u001b[38;5;241m0.5\u001b[39m \u001b[38;5;28;01melse\u001b[39;00m \u001b[38;5;241m0\u001b[39m \u001b[38;5;28;01mfor\u001b[39;00m s \u001b[38;5;129;01min\u001b[39;00m strength]\n\u001b[1;32m     19\u001b[0m \u001b[38;5;28mprint\u001b[39m(\u001b[38;5;124mf\u001b[39m\u001b[38;5;124m'\u001b[39m\u001b[38;5;124mfinal strength \u001b[39m\u001b[38;5;132;01m{\u001b[39;00mstrength\u001b[38;5;132;01m}\u001b[39;00m\u001b[38;5;124m'\u001b[39m)\n\u001b[0;32m---> 20\u001b[0m \u001b[38;5;28mprint\u001b[39m(\u001b[38;5;124mf\u001b[39m\u001b[38;5;124m'\u001b[39m\u001b[38;5;124mfinal sum \u001b[39m\u001b[38;5;132;01m{\u001b[39;00m\u001b[43mjnp\u001b[49m\u001b[38;5;241;43m.\u001b[39;49m\u001b[43mdot\u001b[49m\u001b[43m(\u001b[49m\u001b[43mstrength\u001b[49m\u001b[43m,\u001b[49m\u001b[38;5;250;43m \u001b[39;49m\u001b[43mjnp\u001b[49m\u001b[38;5;241;43m.\u001b[39;49m\u001b[43marray\u001b[49m\u001b[43m(\u001b[49m\u001b[43marr\u001b[49m\u001b[43m)\u001b[49m\u001b[43m)\u001b[49m\u001b[38;5;132;01m}\u001b[39;00m\u001b[38;5;124m'\u001b[39m)\n",
      "    \u001b[0;31m[... skipping hidden 11 frame]\u001b[0m\n",
      "File \u001b[0;32m~/.local/lib/python3.10/site-packages/jax/_src/numpy/lax_numpy.py:4551\u001b[0m, in \u001b[0;36mdot\u001b[0;34m(a, b, precision, preferred_element_type)\u001b[0m\n\u001b[1;32m   4486\u001b[0m \u001b[38;5;129m@partial\u001b[39m(jit, static_argnames\u001b[38;5;241m=\u001b[39m(\u001b[38;5;124m'\u001b[39m\u001b[38;5;124mprecision\u001b[39m\u001b[38;5;124m'\u001b[39m, \u001b[38;5;124m'\u001b[39m\u001b[38;5;124mpreferred_element_type\u001b[39m\u001b[38;5;124m'\u001b[39m), inline\u001b[38;5;241m=\u001b[39m\u001b[38;5;28;01mTrue\u001b[39;00m)\n\u001b[1;32m   4487\u001b[0m \u001b[38;5;28;01mdef\u001b[39;00m \u001b[38;5;21mdot\u001b[39m(a: ArrayLike, b: ArrayLike, \u001b[38;5;241m*\u001b[39m,\n\u001b[1;32m   4488\u001b[0m         precision: PrecisionLike \u001b[38;5;241m=\u001b[39m \u001b[38;5;28;01mNone\u001b[39;00m,\n\u001b[1;32m   4489\u001b[0m         preferred_element_type: DTypeLike \u001b[38;5;241m|\u001b[39m \u001b[38;5;28;01mNone\u001b[39;00m \u001b[38;5;241m=\u001b[39m \u001b[38;5;28;01mNone\u001b[39;00m) \u001b[38;5;241m-\u001b[39m\u001b[38;5;241m>\u001b[39m Array:\n\u001b[1;32m   4490\u001b[0m \u001b[38;5;250m  \u001b[39m\u001b[38;5;124;03m\"\"\"Compute the dot product of two arrays.\u001b[39;00m\n\u001b[1;32m   4491\u001b[0m \n\u001b[1;32m   4492\u001b[0m \u001b[38;5;124;03m  JAX implementation of :func:`numpy.dot`.\u001b[39;00m\n\u001b[0;32m   (...)\u001b[0m\n\u001b[1;32m   4549\u001b[0m \u001b[38;5;124;03m    (3, 2, 1)\u001b[39;00m\n\u001b[1;32m   4550\u001b[0m \u001b[38;5;124;03m  \"\"\"\u001b[39;00m\n\u001b[0;32m-> 4551\u001b[0m   \u001b[43mutil\u001b[49m\u001b[38;5;241;43m.\u001b[39;49m\u001b[43mcheck_arraylike\u001b[49m\u001b[43m(\u001b[49m\u001b[38;5;124;43m\"\u001b[39;49m\u001b[38;5;124;43mdot\u001b[39;49m\u001b[38;5;124;43m\"\u001b[39;49m\u001b[43m,\u001b[49m\u001b[43m \u001b[49m\u001b[43ma\u001b[49m\u001b[43m,\u001b[49m\u001b[43m \u001b[49m\u001b[43mb\u001b[49m\u001b[43m)\u001b[49m\n\u001b[1;32m   4552\u001b[0m   dtypes\u001b[38;5;241m.\u001b[39mcheck_user_dtype_supported(preferred_element_type, \u001b[38;5;124m\"\u001b[39m\u001b[38;5;124mdot\u001b[39m\u001b[38;5;124m\"\u001b[39m)\n\u001b[1;32m   4553\u001b[0m   a, b \u001b[38;5;241m=\u001b[39m asarray(a), asarray(b)\n",
      "File \u001b[0;32m~/.local/lib/python3.10/site-packages/jax/_src/numpy/util.py:335\u001b[0m, in \u001b[0;36mcheck_arraylike\u001b[0;34m(fun_name, emit_warning, stacklevel, *args)\u001b[0m\n\u001b[1;32m    332\u001b[0m   warnings\u001b[38;5;241m.\u001b[39mwarn(msg \u001b[38;5;241m+\u001b[39m \u001b[38;5;124m\"\u001b[39m\u001b[38;5;124m In a future JAX release this will be an error.\u001b[39m\u001b[38;5;124m\"\u001b[39m,\n\u001b[1;32m    333\u001b[0m                 category\u001b[38;5;241m=\u001b[39m\u001b[38;5;167;01mDeprecationWarning\u001b[39;00m, stacklevel\u001b[38;5;241m=\u001b[39mstacklevel)\n\u001b[1;32m    334\u001b[0m \u001b[38;5;28;01melse\u001b[39;00m:\n\u001b[0;32m--> 335\u001b[0m   \u001b[38;5;28;01mraise\u001b[39;00m \u001b[38;5;167;01mTypeError\u001b[39;00m(msg\u001b[38;5;241m.\u001b[39mformat(fun_name, \u001b[38;5;28mtype\u001b[39m(arg), pos))\n",
      "\u001b[0;31mTypeError\u001b[0m: dot requires ndarray or scalar arguments, got <class 'list'> at position 0."
     ]
    }
   ],
   "source": [
    "random.seed(420)\n",
    "max_sum = 14\n",
    "arr = [1, 2, 3, 4, 5, 6, 7, 8, 9, 10]\n",
    "arr = random.sample(arr, len(arr))\n",
    "print(arr)\n",
    "\n",
    "solve(arr, max_sum)"
   ]
  },
  {
   "cell_type": "code",
   "execution_count": null,
   "metadata": {},
   "outputs": [],
   "source": []
  }
 ],
 "metadata": {
  "kernelspec": {
   "display_name": "Python 3",
   "language": "python",
   "name": "python3"
  },
  "language_info": {
   "codemirror_mode": {
    "name": "ipython",
    "version": 3
   },
   "file_extension": ".py",
   "mimetype": "text/x-python",
   "name": "python",
   "nbconvert_exporter": "python",
   "pygments_lexer": "ipython3",
   "version": "3.10.12"
  }
 },
 "nbformat": 4,
 "nbformat_minor": 2
}
