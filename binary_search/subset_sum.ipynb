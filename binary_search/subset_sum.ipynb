{
 "cells": [
  {
   "cell_type": "markdown",
   "metadata": {},
   "source": [
    "# Problem statment"
   ]
  },
  {
   "cell_type": "markdown",
   "metadata": {},
   "source": [
    "given an array 'arr' of elements find the subset with maximum sum, less than 'max_sum'"
   ]
  },
  {
   "cell_type": "code",
   "execution_count": 1,
   "metadata": {},
   "outputs": [],
   "source": [
    "import jax\n",
    "import jax.numpy as jnp\n",
    "from jax import grad, value_and_grad\n",
    "import random\n",
    "import time"
   ]
  },
  {
   "cell_type": "code",
   "execution_count": 37,
   "metadata": {},
   "outputs": [],
   "source": [
    "def softmax(x):\n",
    "    e_x = jnp.exp(x - jnp.max(x))\n",
    "    return e_x / e_x.sum()\n",
    "\n",
    "def get_sum(arr, str):\n",
    "    # softmax the strength to 0-1\n",
    "    strength = jnp.array(arr)\n",
    "    strength = softmax(strength)\n",
    "    strength = [1 if s > 0.5 else 0 for s in strength]\n",
    "    return jnp.sum(jnp.array(strength) * jnp.array(str))\n",
    "\n",
    "def loss_fn(arr, str, max_sum):\n",
    "    return jnp.abs(get_sum(arr, str) - max_sum)"
   ]
  },
  {
   "cell_type": "code",
   "execution_count": 40,
   "metadata": {},
   "outputs": [],
   "source": [
    "def lr_schduler(i):\n",
    "    return 0.1 \n",
    "\n",
    "def solve(arr, max_sum):\n",
    "    arr = jnp.array(arr)\n",
    "    iterations_num = 1000\n",
    "    strength = jnp.zeros(len(arr))\n",
    "    loss_value_and_grad = value_and_grad(loss_fn, 1)\n",
    "\n",
    "    for i in range(iterations_num):\n",
    "        loss, grad = loss_value_and_grad(arr, strength, max_sum)\n",
    "        strength -= lr_schduler(i) * grad\n",
    "        if i % 100 == 0:\n",
    "            print(f'iteration {i}, loss {loss}')\n",
    "\n",
    "    print(f'final loss {loss}')\n",
    "    strength = softmax(strength)\n",
    "    strength = [1 if s > 0.5 else 0 for s in strength]\n",
    "    print(f'final strength {strength}')\n",
    "    print(f'final sum {get_sum(arr, strength)}')\n",
    "   \n"
   ]
  },
  {
   "cell_type": "code",
   "execution_count": 41,
   "metadata": {},
   "outputs": [
    {
     "name": "stdout",
     "output_type": "stream",
     "text": [
      "[1, 6, 5, 4, 10, 9, 8, 3, 2, 7]\n",
      "iteration 0, loss 14.0\n",
      "iteration 100, loss 3.999998092651367\n",
      "iteration 200, loss 1.71661376953125e-05\n",
      "iteration 300, loss 1.71661376953125e-05\n",
      "iteration 400, loss 1.71661376953125e-05\n",
      "iteration 500, loss 1.71661376953125e-05\n",
      "iteration 600, loss 1.71661376953125e-05\n",
      "iteration 700, loss 1.71661376953125e-05\n",
      "iteration 800, loss 1.71661376953125e-05\n",
      "iteration 900, loss 1.71661376953125e-05\n",
      "final loss 0.09998321533203125\n",
      "final strength [0, 0, 0, 0, 1, 0, 0, 0, 0, 0]\n",
      "final sum 1\n"
     ]
    }
   ],
   "source": [
    "random.seed(420)\n",
    "max_sum = 14\n",
    "arr = [1, 2, 3, 4, 5, 6, 7, 8, 9, 10]\n",
    "arr = random.sample(arr, len(arr))\n",
    "print(arr)\n",
    "\n",
    "solve(arr, max_sum)"
   ]
  },
  {
   "cell_type": "code",
   "execution_count": null,
   "metadata": {},
   "outputs": [],
   "source": []
  }
 ],
 "metadata": {
  "kernelspec": {
   "display_name": "Python 3",
   "language": "python",
   "name": "python3"
  },
  "language_info": {
   "codemirror_mode": {
    "name": "ipython",
    "version": 3
   },
   "file_extension": ".py",
   "mimetype": "text/x-python",
   "name": "python",
   "nbconvert_exporter": "python",
   "pygments_lexer": "ipython3",
   "version": "3.10.12"
  }
 },
 "nbformat": 4,
 "nbformat_minor": 2
}
