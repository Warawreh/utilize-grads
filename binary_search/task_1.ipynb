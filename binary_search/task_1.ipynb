{
 "cells": [
  {
   "cell_type": "markdown",
   "metadata": {},
   "source": [
    "## Problem statement"
   ]
  },
  {
   "cell_type": "markdown",
   "metadata": {},
   "source": [
    "Find the minimum value of 'x' such that the sum of values from 1 to 'x' is less than or equal to 'max_sum'. "
   ]
  },
  {
   "cell_type": "code",
   "execution_count": 78,
   "metadata": {},
   "outputs": [],
   "source": [
    "import jax\n",
    "import jax.numpy as jnp\n",
    "from jax import grad, value_and_grad\n",
    "import random\n",
    "import time\n"
   ]
  },
  {
   "cell_type": "code",
   "execution_count": 50,
   "metadata": {},
   "outputs": [],
   "source": [
    "def get_value(x):\n",
    "    return x * (x + 1) // 2\n",
    "\n",
    "def loss(x, max_sum):\n",
    "    return jnp.abs(get_value(x) - max_sum)"
   ]
  },
  {
   "cell_type": "code",
   "execution_count": 86,
   "metadata": {},
   "outputs": [],
   "source": [
    "def lr_schduler(i):\n",
    "    return 0.1 \n",
    "\n",
    "def solve(max_sum):\n",
    "    x = jnp.array(0.0)\n",
    "    num_iterations = 500\n",
    "    answer = 0\n",
    "    best_loss = 1000000\n",
    "\n",
    "    loss_value_and_grad = value_and_grad(loss)\n",
    "\n",
    "    for i in range(num_iterations):\n",
    "        lr = lr_schduler(i)\n",
    "        loss_value, grad_value = loss_value_and_grad(x, max_sum)\n",
    "\n",
    "        if i % 100 == 0 and False:  # Print every 100 iterations for better readability\n",
    "            print(f\"Iteration {i}: x = {x}, get_value(x) = {get_value(int(x))}, loss = {loss_value}, derivative = {grad_value}\")\n",
    "\n",
    "        if loss_value < best_loss:\n",
    "            best_loss = loss_value\n",
    "            answer = x\n",
    "\n",
    "        # check if x becomes nan or inf\n",
    "        if jnp.isnan(x - lr * grad_value) or jnp.isinf(x - lr * grad_value):\n",
    "            print(f\"Warning: x became nan at iteration {i}\")\n",
    "            print(x, grad_value)\n",
    "\n",
    "        x = x - lr * grad_value\n",
    "\n",
    "    answer = jnp.round(answer) + 1\n",
    "    while get_value(answer) > max_sum:\n",
    "        answer -= 1\n",
    "    return int(answer)"
   ]
  },
  {
   "cell_type": "code",
   "execution_count": 83,
   "metadata": {},
   "outputs": [],
   "source": [
    "max_sum = random.randint(1, 100000)"
   ]
  },
  {
   "cell_type": "code",
   "execution_count": 84,
   "metadata": {},
   "outputs": [
    {
     "name": "stdout",
     "output_type": "stream",
     "text": [
      "Iteration 0: x = 0.0, get_value(x) = 0.0, loss = 65243.0, derivative = -0.5\n",
      "Iteration 100: x = 339.11419677734375, get_value(x) = 57630.0, loss = 7574.22265625, derivative = -339.61419677734375\n",
      "Iteration 200: x = 374.64227294921875, get_value(x) = 70125.0, loss = 5122.734375, derivative = 375.14227294921875\n",
      "Iteration 300: x = 338.5440673828125, get_value(x) = 57291.0, loss = 7767.68359375, derivative = -339.0440673828125\n",
      "Iteration 400: x = 374.0125427246094, get_value(x) = 70125.0, loss = 4886.6953125, derivative = 374.5125427246094\n",
      "Answer: 360\n",
      "Time: 0.8963940143585205 seconds\n"
     ]
    }
   ],
   "source": [
    "\n",
    "start = time.time()\n",
    "\n",
    "res = solve(max_sum)\n",
    "print(f\"Answer: {res}\")\n",
    "\n",
    "end = time.time()\n",
    "print(f\"Time: {end - start} seconds\")\n"
   ]
  },
  {
   "cell_type": "code",
   "execution_count": 85,
   "metadata": {},
   "outputs": [
    {
     "name": "stdout",
     "output_type": "stream",
     "text": [
      "263.0\n",
      "-98.0\n",
      "623.0\n"
     ]
    }
   ],
   "source": [
    "print(max_sum - get_value(res))\n",
    "print(max_sum - get_value(res + 1))\n",
    "print(max_sum - get_value(res - 1))"
   ]
  },
  {
   "cell_type": "markdown",
   "metadata": {},
   "source": [
    "## Testing~"
   ]
  },
  {
   "cell_type": "code",
   "execution_count": 88,
   "metadata": {},
   "outputs": [
    {
     "name": "stdout",
     "output_type": "stream",
     "text": [
      "Test 0 passed\n",
      "Test 100 passed\n",
      "Test 200 passed\n",
      "Test 300 passed\n",
      "Test 400 passed\n",
      "Test 500 passed\n",
      "Test 600 passed\n",
      "Test 700 passed\n",
      "Test 800 passed\n",
      "Test 900 passed\n",
      "Time: 883.6656148433685 seconds\n",
      "Average time: 0.8836656148433686 seconds\n",
      "All tests passed!\n"
     ]
    }
   ],
   "source": [
    "total_tests = 1000\n",
    "\n",
    "start = time.time()\n",
    "for _ in range(total_tests):\n",
    "    max_sum = random.randint(1, 100000)\n",
    "    res = solve(max_sum)\n",
    "    assert get_value(res) <= max_sum\n",
    "    assert get_value(res + 1) > max_sum\n",
    "    assert get_value(res - 1) < max_sum\n",
    "\n",
    "    if _ % 100 == 0:\n",
    "        print(f\"Test {_} passed\")\n",
    "\n",
    "end = time.time()\n",
    "print(f\"Time: {end - start} seconds\")\n",
    "print(f\"Average time: {(end - start) / total_tests} seconds\")\n",
    "\n",
    "print(\"All tests passed!\")"
   ]
  },
  {
   "cell_type": "code",
   "execution_count": null,
   "metadata": {},
   "outputs": [],
   "source": []
  }
 ],
 "metadata": {
  "kernelspec": {
   "display_name": "Python 3",
   "language": "python",
   "name": "python3"
  },
  "language_info": {
   "codemirror_mode": {
    "name": "ipython",
    "version": 3
   },
   "file_extension": ".py",
   "mimetype": "text/x-python",
   "name": "python",
   "nbconvert_exporter": "python",
   "pygments_lexer": "ipython3",
   "version": "3.10.12"
  }
 },
 "nbformat": 4,
 "nbformat_minor": 2
}
