{
 "cells": [
  {
   "cell_type": "code",
   "execution_count": 3,
   "metadata": {},
   "outputs": [],
   "source": [
    "import jax\n",
    "import jax.numpy as jnp\n",
    "from jax import grad, value_and_grad\n",
    "import random\n",
    "import time\n",
    "import numpy as np"
   ]
  },
  {
   "cell_type": "code",
   "execution_count": 40,
   "metadata": {},
   "outputs": [],
   "source": [
    "input_data = jnp.array(list(m))\n",
    "target_data = jnp.array(list(w))"
   ]
  },
  {
   "cell_type": "code",
   "execution_count": 41,
   "metadata": {},
   "outputs": [
    {
     "name": "stdout",
     "output_type": "stream",
     "text": [
      "Step 0, loss: 484200.65625\n",
      "Step 1000, loss: 0.4891127347946167\n",
      "Step 2000, loss: 0.0035047002602368593\n",
      "Step 3000, loss: 0.0035047002602368593\n",
      "Step 4000, loss: 0.0035047002602368593\n",
      "Step 5000, loss: 0.0035047002602368593\n",
      "Step 6000, loss: 0.0035047002602368593\n",
      "Step 7000, loss: 0.0035047002602368593\n",
      "Step 8000, loss: 0.0035047002602368593\n",
      "Step 9000, loss: 0.0035047002602368593\n",
      "9.809953\n"
     ]
    }
   ],
   "source": [
    "def loss_fn(params):\n",
    "    predicted = jnp.dot(input_data, params)\n",
    "    return jnp.mean(jnp.square(predicted - target_data))\n",
    "\n",
    "def train(input_data, target_data, num_steps):\n",
    "    loss_value_and_grad = value_and_grad(loss_fn)\n",
    "    g = jnp.array(0.0)\n",
    "    lr = 0.01\n",
    "    max_grad_norm = 1.0\n",
    "    last_loss = 0.0\n",
    "    \n",
    "    for i in range(num_steps):\n",
    "        loss, grad = loss_value_and_grad(g)\n",
    "\n",
    "        if grad > max_grad_norm:\n",
    "            grad = max_grad_norm\n",
    "        elif grad < -max_grad_norm:\n",
    "            grad = -max_grad_norm\n",
    "\n",
    "        g = g - lr * grad\n",
    "\n",
    "        # if g is not changing much, decrease learning rate\n",
    "        if i % 100 == 0:\n",
    "            if i > 0:\n",
    "                if jnp.abs(loss - last_loss) < 1e-6:\n",
    "                    lr *= 0.1\n",
    "\n",
    "            last_loss = loss\n",
    "\n",
    "        if i % 1000 == 0:\n",
    "            print(f\"Step {i}, loss: {loss}\")\n",
    "\n",
    "    \n",
    "    return g\n",
    "\n",
    "params = train(input_data, target_data, 10000)\n",
    "print(params)\n"
   ]
  },
  {
   "cell_type": "markdown",
   "metadata": {},
   "source": [
    "# Generate data with (g = 9.8)"
   ]
  },
  {
   "cell_type": "code",
   "execution_count": 39,
   "metadata": {},
   "outputs": [],
   "source": [
    "g = 9.81\n",
    "m = [random.uniform(40, 100) for _ in range(1000)]\n",
    "m = jnp.array(m)\n",
    "w = m * g\n",
    "w = w + jnp.array([random.uniform(-0.1, 0.1) for _ in range(1000)])"
   ]
  },
  {
   "cell_type": "code",
   "execution_count": null,
   "metadata": {},
   "outputs": [],
   "source": []
  }
 ],
 "metadata": {
  "kernelspec": {
   "display_name": "Python 3",
   "language": "python",
   "name": "python3"
  },
  "language_info": {
   "codemirror_mode": {
    "name": "ipython",
    "version": 3
   },
   "file_extension": ".py",
   "mimetype": "text/x-python",
   "name": "python",
   "nbconvert_exporter": "python",
   "pygments_lexer": "ipython3",
   "version": "3.10.12"
  }
 },
 "nbformat": 4,
 "nbformat_minor": 2
}
